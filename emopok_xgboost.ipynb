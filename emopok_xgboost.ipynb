{
 "cells": [
  {
   "cell_type": "markdown",
   "metadata": {},
   "source": [
    "<h1><center>emopok xgboost 🌳 </center></h1>\n",
    "<center>authors: [Aina Nurmagombetova](https://github.com/anurma) 🤙 [Alina Cherepanova](https://github.com/alinacherepanova) 🙋 [Anya Bataeva](https://github.com/fyzbt) 🤯 [Olya Silyutina](https://github.com/olgasilyutina) 🤩</center>"
   ]
  },
  {
   "cell_type": "code",
   "execution_count": 79,
   "metadata": {},
   "outputs": [],
   "source": [
    "import os\n",
    "import pandas as pd\n",
    "import numpy as np\n",
    "from tqdm import tqdm_notebook as tqdm\n",
    "os.environ['KMP_DUPLICATE_LIB_OK']='True'\n",
    "from xgboost import XGBClassifier"
   ]
  },
  {
   "cell_type": "code",
   "execution_count": 2,
   "metadata": {},
   "outputs": [],
   "source": [
    "# prepare data\n",
    "unique_df = pd.read_csv('./data/unique_emopok.csv')\n",
    "textfeatures_df = pd.read_csv('./data/textfeatures_emopok.csv')\n",
    "sent_df = pd.read_csv('./data/sentiments_emopok.csv')\n",
    "topics_df = pd.read_csv('./data/dum_topics_emopok.csv')\n",
    "emoji_df = pd.read_csv('./data/emoji_texts_df.csv')\n",
    "emo_clusters = pd.read_csv('./data/emopok_clusters.csv')\n",
    "d2v_vectors_df = pd.read_csv('./data/d2v_vectors_emopok.csv')"
   ]
  },
  {
   "cell_type": "code",
   "execution_count": 3,
   "metadata": {},
   "outputs": [],
   "source": [
    "sent_df.columns = ['index', 'sent', 'texts']\n",
    "xgb_df = unique_df.merge(textfeatures_df.drop(['text'], axis=1), on = 'index')\n",
    "xgb_df = xgb_df.merge(sent_df.drop('texts', axis = 1), on = 'index')\n",
    "xgb_df = pd.concat([xgb_df.reset_index(drop=True), d2v_vectors_df], axis=1)\n",
    "xgb_df = pd.concat([xgb_df.reset_index(drop=True), topics_df], axis=1)\n",
    "emoji_df = emoji_df[['emoji', 'index']].drop_duplicates()\n",
    "xgb_df = xgb_df.merge(emoji_df, on = 'index')\n",
    "emo_clusters.columns = ['emoji', 'cluster_group']\n",
    "xgb_df = xgb_df.merge(emo_clusters, on = 'emoji')\n",
    "xgb_df = xgb_df.drop(['emoji', 'texts'], axis = 1)"
   ]
  },
  {
   "cell_type": "code",
   "execution_count": 4,
   "metadata": {},
   "outputs": [
    {
     "data": {
      "text/plain": [
       "547642"
      ]
     },
     "execution_count": 4,
     "metadata": {},
     "output_type": "execute_result"
    }
   ],
   "source": [
    "len(xgb_df)"
   ]
  },
  {
   "cell_type": "code",
   "execution_count": 5,
   "metadata": {},
   "outputs": [
    {
     "data": {
      "text/html": [
       "<div>\n",
       "<style scoped>\n",
       "    .dataframe tbody tr th:only-of-type {\n",
       "        vertical-align: middle;\n",
       "    }\n",
       "\n",
       "    .dataframe tbody tr th {\n",
       "        vertical-align: top;\n",
       "    }\n",
       "\n",
       "    .dataframe thead th {\n",
       "        text-align: right;\n",
       "    }\n",
       "</style>\n",
       "<table border=\"1\" class=\"dataframe\">\n",
       "  <thead>\n",
       "    <tr style=\"text-align: right;\">\n",
       "      <th></th>\n",
       "      <th>index</th>\n",
       "      <th>n_chars</th>\n",
       "      <th>n_commas</th>\n",
       "      <th>n_digits</th>\n",
       "      <th>n_exclaims</th>\n",
       "      <th>n_hashtags</th>\n",
       "      <th>n_lowers</th>\n",
       "      <th>n_mentions</th>\n",
       "      <th>n_urls</th>\n",
       "      <th>n_words</th>\n",
       "      <th>...</th>\n",
       "      <th>topic_11</th>\n",
       "      <th>topic_12</th>\n",
       "      <th>topic_13</th>\n",
       "      <th>topic_14</th>\n",
       "      <th>topic_15</th>\n",
       "      <th>topic_16</th>\n",
       "      <th>topic_17</th>\n",
       "      <th>topic_18</th>\n",
       "      <th>topic_19</th>\n",
       "      <th>cluster_group</th>\n",
       "    </tr>\n",
       "  </thead>\n",
       "  <tbody>\n",
       "    <tr>\n",
       "      <th>0</th>\n",
       "      <td>1</td>\n",
       "      <td>755</td>\n",
       "      <td>3</td>\n",
       "      <td>123</td>\n",
       "      <td>0</td>\n",
       "      <td>1</td>\n",
       "      <td>301</td>\n",
       "      <td>0</td>\n",
       "      <td>3</td>\n",
       "      <td>666</td>\n",
       "      <td>...</td>\n",
       "      <td>0</td>\n",
       "      <td>0</td>\n",
       "      <td>0</td>\n",
       "      <td>0</td>\n",
       "      <td>0</td>\n",
       "      <td>0</td>\n",
       "      <td>0</td>\n",
       "      <td>0</td>\n",
       "      <td>0</td>\n",
       "      <td>14</td>\n",
       "    </tr>\n",
       "  </tbody>\n",
       "</table>\n",
       "<p>1 rows × 134 columns</p>\n",
       "</div>"
      ],
      "text/plain": [
       "   index  n_chars  n_commas  n_digits  n_exclaims  n_hashtags  n_lowers  \\\n",
       "0      1      755         3       123           0           1       301   \n",
       "\n",
       "   n_mentions  n_urls  n_words      ...        topic_11  topic_12  topic_13  \\\n",
       "0           0       3      666      ...               0         0         0   \n",
       "\n",
       "   topic_14  topic_15  topic_16  topic_17  topic_18  topic_19  cluster_group  \n",
       "0         0         0         0         0         0         0             14  \n",
       "\n",
       "[1 rows x 134 columns]"
      ]
     },
     "execution_count": 5,
     "metadata": {},
     "output_type": "execute_result"
    }
   ],
   "source": [
    "xgb_df.head(1)"
   ]
  },
  {
   "cell_type": "code",
   "execution_count": 6,
   "metadata": {},
   "outputs": [],
   "source": [
    "xgb_df.to_csv('./data/xgb_emopok.csv', index = False)"
   ]
  },
  {
   "cell_type": "code",
   "execution_count": 2,
   "metadata": {},
   "outputs": [],
   "source": [
    "xgb_df = pd.read_csv('./data/xgb_emopok.csv')"
   ]
  },
  {
   "cell_type": "code",
   "execution_count": 5,
   "metadata": {},
   "outputs": [],
   "source": [
    "# cols = [c for c in xgb_df.columns if 'topic' in c.lower()]\n",
    "# xgb_df = xgb_df.drop(cols, axis = 1)"
   ]
  },
  {
   "cell_type": "code",
   "execution_count": 80,
   "metadata": {},
   "outputs": [
    {
     "data": {
      "application/vnd.jupyter.widget-view+json": {
       "model_id": "8c96fa3a39b64c2fa2f09afdc8ae1330",
       "version_major": 2,
       "version_minor": 0
      },
      "text/plain": [
       "HBox(children=(IntProgress(value=0, max=5), HTML(value='')))"
      ]
     },
     "metadata": {},
     "output_type": "display_data"
    },
    {
     "name": "stdout",
     "output_type": "stream",
     "text": [
      "\n"
     ]
    }
   ],
   "source": [
    "for i in tqdm(['16_3', '6', '3', '1', '23']):\n",
    "    xgb_df_sample = xgb_df[xgb_df['cluster_group'] == i].sample(40000)\n",
    "    xgb_df = xgb_df[xgb_df['cluster_group'] != i]\n",
    "    xgb_df = pd.concat([xgb_df, xgb_df_sample])"
   ]
  },
  {
   "cell_type": "code",
   "execution_count": 81,
   "metadata": {},
   "outputs": [],
   "source": [
    "xgb_df = xgb_df.reset_index(drop=True)"
   ]
  },
  {
   "cell_type": "code",
   "execution_count": 84,
   "metadata": {},
   "outputs": [
    {
     "data": {
      "text/html": [
       "<div>\n",
       "<style scoped>\n",
       "    .dataframe tbody tr th:only-of-type {\n",
       "        vertical-align: middle;\n",
       "    }\n",
       "\n",
       "    .dataframe tbody tr th {\n",
       "        vertical-align: top;\n",
       "    }\n",
       "\n",
       "    .dataframe thead th {\n",
       "        text-align: right;\n",
       "    }\n",
       "</style>\n",
       "<table border=\"1\" class=\"dataframe\">\n",
       "  <thead>\n",
       "    <tr style=\"text-align: right;\">\n",
       "      <th></th>\n",
       "      <th>cluster_group</th>\n",
       "      <th>index</th>\n",
       "    </tr>\n",
       "  </thead>\n",
       "  <tbody>\n",
       "    <tr>\n",
       "      <th>0</th>\n",
       "      <td>16_3</td>\n",
       "      <td>40000</td>\n",
       "    </tr>\n",
       "    <tr>\n",
       "      <th>1</th>\n",
       "      <td>1</td>\n",
       "      <td>40000</td>\n",
       "    </tr>\n",
       "    <tr>\n",
       "      <th>2</th>\n",
       "      <td>6</td>\n",
       "      <td>40000</td>\n",
       "    </tr>\n",
       "    <tr>\n",
       "      <th>3</th>\n",
       "      <td>3</td>\n",
       "      <td>40000</td>\n",
       "    </tr>\n",
       "    <tr>\n",
       "      <th>4</th>\n",
       "      <td>23</td>\n",
       "      <td>40000</td>\n",
       "    </tr>\n",
       "    <tr>\n",
       "      <th>5</th>\n",
       "      <td>21</td>\n",
       "      <td>29775</td>\n",
       "    </tr>\n",
       "    <tr>\n",
       "      <th>6</th>\n",
       "      <td>2</td>\n",
       "      <td>28627</td>\n",
       "    </tr>\n",
       "    <tr>\n",
       "      <th>7</th>\n",
       "      <td>13</td>\n",
       "      <td>16723</td>\n",
       "    </tr>\n",
       "    <tr>\n",
       "      <th>8</th>\n",
       "      <td>16_7</td>\n",
       "      <td>16192</td>\n",
       "    </tr>\n",
       "    <tr>\n",
       "      <th>9</th>\n",
       "      <td>18</td>\n",
       "      <td>15311</td>\n",
       "    </tr>\n",
       "  </tbody>\n",
       "</table>\n",
       "</div>"
      ],
      "text/plain": [
       "  cluster_group  index\n",
       "0          16_3  40000\n",
       "1             1  40000\n",
       "2             6  40000\n",
       "3             3  40000\n",
       "4            23  40000\n",
       "5            21  29775\n",
       "6             2  28627\n",
       "7            13  16723\n",
       "8          16_7  16192\n",
       "9            18  15311"
      ]
     },
     "execution_count": 84,
     "metadata": {},
     "output_type": "execute_result"
    }
   ],
   "source": [
    "# top clusters\n",
    "xgb_df.groupby('cluster_group').index.count().sort_values('index', ascending = False).reset_index().head(10)"
   ]
  },
  {
   "cell_type": "code",
   "execution_count": 244,
   "metadata": {},
   "outputs": [],
   "source": [
    "Y = xgb_df[['cluster_group']]\n",
    "X = xgb_df.drop(['cluster_group', 'index'], axis = 1)"
   ]
  },
  {
   "cell_type": "code",
   "execution_count": 245,
   "metadata": {},
   "outputs": [],
   "source": [
    "from sklearn.cross_validation import train_test_split\n",
    "\n",
    "X_train, X_test, y_train, y_test = train_test_split(X, Y, test_size=0.2, random_state=42)"
   ]
  },
  {
   "cell_type": "code",
   "execution_count": 246,
   "metadata": {},
   "outputs": [],
   "source": [
    "model = XGBClassifier(n_jobs=4, silent=False, objective='multi:softprob', n_estimators=1)"
   ]
  },
  {
   "cell_type": "code",
   "execution_count": 89,
   "metadata": {},
   "outputs": [
    {
     "name": "stdout",
     "output_type": "stream",
     "text": [
      "[0]\tvalidation_0-merror:0.866463\n"
     ]
    },
    {
     "data": {
      "text/plain": [
       "XGBClassifier(base_score=0.5, booster='gbtree', colsample_bylevel=1,\n",
       "       colsample_bytree=1, gamma=0, learning_rate=0.1, max_delta_step=0,\n",
       "       max_depth=3, min_child_weight=1, missing=None, n_estimators=1,\n",
       "       n_jobs=4, nthread=None, objective='multi:softprob', random_state=0,\n",
       "       reg_alpha=0, reg_lambda=1, scale_pos_weight=1, seed=None,\n",
       "       silent=False, subsample=1)"
      ]
     },
     "execution_count": 89,
     "metadata": {},
     "output_type": "execute_result"
    }
   ],
   "source": [
    "eval_set = [(X_test, y_test.values.ravel())]\n",
    "model.fit(X_train, y_train.values.ravel(), eval_set=eval_set, verbose=True)"
   ]
  },
  {
   "cell_type": "code",
   "execution_count": 208,
   "metadata": {},
   "outputs": [],
   "source": [
    "sorted_idx = np.argsort(model.feature_importances_)[::-1]\n",
    "cols = []\n",
    "imp = []\n",
    "for index in sorted_idx:\n",
    "    cols.append(X_train.columns[index])\n",
    "    imp.append(model.feature_importances_[index])"
   ]
  },
  {
   "cell_type": "code",
   "execution_count": 222,
   "metadata": {},
   "outputs": [],
   "source": [
    "feature_importances = pd.DataFrame({'features': cols, 'importances': imp})"
   ]
  },
  {
   "cell_type": "code",
   "execution_count": 223,
   "metadata": {},
   "outputs": [
    {
     "data": {
      "text/html": [
       "<script>requirejs.config({paths: { 'plotly': ['https://cdn.plot.ly/plotly-latest.min']},});if(!window.Plotly) {{require(['plotly'],function(plotly) {window.Plotly=plotly;});}}</script>"
      ],
      "text/vnd.plotly.v1+html": [
       "<script>requirejs.config({paths: { 'plotly': ['https://cdn.plot.ly/plotly-latest.min']},});if(!window.Plotly) {{require(['plotly'],function(plotly) {window.Plotly=plotly;});}}</script>"
      ]
     },
     "metadata": {},
     "output_type": "display_data"
    }
   ],
   "source": [
    "from plotly import __version__\n",
    "from plotly.offline import download_plotlyjs, init_notebook_mode, plot, iplot\n",
    "import plotly.graph_objs as go\n",
    "init_notebook_mode(connected=True)"
   ]
  },
  {
   "cell_type": "code",
   "execution_count": 224,
   "metadata": {},
   "outputs": [],
   "source": [
    "feature_importances = feature_importances[feature_importances['importances'] > 0.01]\n",
    "feature_importances = feature_importances.sort_values('importances')"
   ]
  },
  {
   "cell_type": "code",
   "execution_count": 252,
   "metadata": {},
   "outputs": [
    {
     "data": {
      "application/vnd.plotly.v1+json": {
       "data": [
        {
         "marker": {
          "color": "#3AA2FB"
         },
         "orientation": "h",
         "type": "bar",
         "uid": "94982548-70a0-11e9-8b96-a45e60d44769",
         "x": [
          0.011170841753482819,
          0.012584937736392021,
          0.013353443704545498,
          0.016062840819358826,
          0.016130337491631508,
          0.016511406749486923,
          0.01818370260298252,
          0.019037039950489998,
          0.019051596522331238,
          0.019591130316257477,
          0.02237125113606453,
          0.023974813520908356,
          0.0321112722158432,
          0.03524245321750641,
          0.04295428469777107,
          0.04296538233757019,
          0.09344596415758133,
          0.40817898511886597
         ],
         "y": [
          "n_hashtags",
          "n_uppers",
          "d2v_52",
          "n_mentions",
          "n_exclaims",
          "d2v_37",
          "d2v_70",
          "d2v_59",
          "d2v_9",
          "d2v_81",
          "n_nonasciis",
          "n_commas",
          "n_digits",
          "sent",
          "d2v_87",
          "n_words",
          "topic_12",
          "topic_11"
         ]
        }
       ],
       "layout": {}
      },
      "text/html": [
       "<div id=\"de47f273-6636-4cae-ad70-a7628e8959df\" style=\"height: 525px; width: 100%;\" class=\"plotly-graph-div\"></div><script type=\"text/javascript\">require([\"plotly\"], function(Plotly) { window.PLOTLYENV=window.PLOTLYENV || {};window.PLOTLYENV.BASE_URL=\"https://plot.ly\";Plotly.newPlot(\"de47f273-6636-4cae-ad70-a7628e8959df\", [{\"marker\": {\"color\": \"#3AA2FB\"}, \"orientation\": \"h\", \"x\": [0.011170841753482819, 0.012584937736392021, 0.013353443704545498, 0.016062840819358826, 0.016130337491631508, 0.016511406749486923, 0.01818370260298252, 0.019037039950489998, 0.019051596522331238, 0.019591130316257477, 0.02237125113606453, 0.023974813520908356, 0.0321112722158432, 0.03524245321750641, 0.04295428469777107, 0.04296538233757019, 0.09344596415758133, 0.40817898511886597], \"y\": [\"n_hashtags\", \"n_uppers\", \"d2v_52\", \"n_mentions\", \"n_exclaims\", \"d2v_37\", \"d2v_70\", \"d2v_59\", \"d2v_9\", \"d2v_81\", \"n_nonasciis\", \"n_commas\", \"n_digits\", \"sent\", \"d2v_87\", \"n_words\", \"topic_12\", \"topic_11\"], \"type\": \"bar\", \"uid\": \"949c27cc-70a0-11e9-a137-a45e60d44769\"}], {}, {\"showLink\": true, \"linkText\": \"Export to plot.ly\"})});</script>"
      ],
      "text/vnd.plotly.v1+html": [
       "<div id=\"de47f273-6636-4cae-ad70-a7628e8959df\" style=\"height: 525px; width: 100%;\" class=\"plotly-graph-div\"></div><script type=\"text/javascript\">require([\"plotly\"], function(Plotly) { window.PLOTLYENV=window.PLOTLYENV || {};window.PLOTLYENV.BASE_URL=\"https://plot.ly\";Plotly.newPlot(\"de47f273-6636-4cae-ad70-a7628e8959df\", [{\"marker\": {\"color\": \"#3AA2FB\"}, \"orientation\": \"h\", \"x\": [0.011170841753482819, 0.012584937736392021, 0.013353443704545498, 0.016062840819358826, 0.016130337491631508, 0.016511406749486923, 0.01818370260298252, 0.019037039950489998, 0.019051596522331238, 0.019591130316257477, 0.02237125113606453, 0.023974813520908356, 0.0321112722158432, 0.03524245321750641, 0.04295428469777107, 0.04296538233757019, 0.09344596415758133, 0.40817898511886597], \"y\": [\"n_hashtags\", \"n_uppers\", \"d2v_52\", \"n_mentions\", \"n_exclaims\", \"d2v_37\", \"d2v_70\", \"d2v_59\", \"d2v_9\", \"d2v_81\", \"n_nonasciis\", \"n_commas\", \"n_digits\", \"sent\", \"d2v_87\", \"n_words\", \"topic_12\", \"topic_11\"], \"type\": \"bar\", \"uid\": \"949c27cc-70a0-11e9-a137-a45e60d44769\"}], {}, {\"showLink\": true, \"linkText\": \"Export to plot.ly\"})});</script>"
      ]
     },
     "metadata": {},
     "output_type": "display_data"
    }
   ],
   "source": [
    "trace = go.Bar(\n",
    "    y = list(feature_importances['features']),\n",
    "    x = list(feature_importances['importances']),\n",
    "    marker=dict(color='#3AA2FB'),\n",
    "    orientation = 'h')\n",
    "\n",
    "layout = dict(title = '',\n",
    "              width=400,\n",
    "              height=400,\n",
    "              xaxis = dict(title = ''),\n",
    "              yaxis = dict(title = ''))\n",
    "\n",
    "fig = dict(data=[trace])\n",
    "iplot(fig)"
   ]
  },
  {
   "cell_type": "code",
   "execution_count": 92,
   "metadata": {},
   "outputs": [
    {
     "name": "stderr",
     "output_type": "stream",
     "text": [
      "/Users/o.silutina/anaconda3/lib/python3.6/site-packages/sklearn/preprocessing/label.py:151: DeprecationWarning: The truth value of an empty array is ambiguous. Returning False, but in future this will result in an error. Use `array.size > 0` to check that an array is not empty.\n",
      "  if diff:\n"
     ]
    }
   ],
   "source": [
    "preds = model.predict(X_test)"
   ]
  },
  {
   "cell_type": "code",
   "execution_count": null,
   "metadata": {},
   "outputs": [],
   "source": [
    "from sklearn.metrics import accuracy_score\n",
    "accuracy = accuracy_score(y_test, preds)"
   ]
  },
  {
   "cell_type": "code",
   "execution_count": null,
   "metadata": {},
   "outputs": [],
   "source": [
    "X_test['predictions'] = preds\n",
    "test_indexes = xgb_df.iloc[X_test.index]\n",
    "test_indexes = test_indexes[['index']].reset_index()\n",
    "test_predictions = X_test.reset_index()[['index', 'predictions']]\n",
    "test_predictions.columns = ['level_0', 'predictions']\n",
    "test_indexes = test_indexes.merge(test_predictions, on = 'level_0')\n",
    "fin_test = unique_df.merge(test_indexes, on = 'index').sort_values('level_0')\\\n",
    "    .merge(emoji_df, on = 'index', how = 'inner')\\\n",
    "    .merge(emo_clusters, on = 'emoji', how = 'inner')"
   ]
  },
  {
   "cell_type": "code",
   "execution_count": 116,
   "metadata": {},
   "outputs": [],
   "source": [
    "fin_test = fin_test.drop(['emoji', 'level_0'], axis = 1).drop_duplicates()"
   ]
  },
  {
   "cell_type": "code",
   "execution_count": null,
   "metadata": {},
   "outputs": [],
   "source": [
    "fin_test = fin_test.assign(NE=fin_test.predictions.astype(str) == fin_test.cluster_group)"
   ]
  },
  {
   "cell_type": "code",
   "execution_count": 164,
   "metadata": {},
   "outputs": [],
   "source": [
    "fin_test.to_csv('./data/success_pred.csv', index = False)"
   ]
  },
  {
   "cell_type": "code",
   "execution_count": 178,
   "metadata": {},
   "outputs": [],
   "source": [
    "good_ones = fin_test[(fin_test['NE'] == True)]"
   ]
  },
  {
   "cell_type": "code",
   "execution_count": null,
   "metadata": {},
   "outputs": [],
   "source": [
    "# fin_test[(fin_test['NE'] == True) & (~fin_test['predictions'].isin(['16_3', '14', '3', '1', '12', '16_1', '15_7',\\\n",
    "#                                                                    '15_0', '2', '21', '13', '6', '23', '24', '5',\\\n",
    "#                                                                    '20']))]"
   ]
  },
  {
   "cell_type": "code",
   "execution_count": 196,
   "metadata": {},
   "outputs": [
    {
     "name": "stdout",
     "output_type": "stream",
     "text": [
      "Сообщение: Ну наконец-то эти пары закончились, как же я отвык за несколько месяцев 😓Предсказание: 👎 🔞 😓 🎆 👏\n",
      "\n",
      "Сообщение: @lovvely_1d люди столько не живут😓Предсказание: 🖕 😤 👊 🔞 👏\n",
      "\n",
      "Сообщение: Что делать если у тебя есть краш, но ты очень сильно боишься признаться ему🙁😓😓😓Предсказание: 🇷🇺 😥 ♥ 🔞 😓\n",
      "\n",
      "Сообщение: Что делать если у тебя есть краш, но ты очень сильно боишься признаться ему🙁😓😓😓Предсказание: 💔 👊 🌊 😫\n",
      "\n",
      "Сообщение: Судьба уберегла 😫😫😫🤐🤐🤐Предсказание: 😐 😟 💤 🤥 🙁\n",
      "\n",
      "Сообщение: Да не ниче🤐Предсказание: 🤪 🧐 💤 🤥 🙁\n",
      "\n",
      "Сообщение: @SirPhilipp Да блин не поймите неправильно😨Я вот человек взрослый мне 15(через 2 года)а вот моя мать это не понимает!!Я как истинная бабочка🦋покидаю свой кокон,-800 гр за месяц на голоде(параметры 120/80)и мама говорит что у меня анорексия,надо сделать вид при ней что кушаю чтобы отстала🙏Предсказание: 🎶 🌹 🎼 🎧 💐\n",
      "\n",
      "Сообщение: Конец рабочего дня 💫💫💫💜💜💜 Поскорее бы закончился этот день 🙌🙌🙌 Жду завтрашний день  ммммм бабочки 🦋 в животе #curiousaboutARMY https://t.co/M4wCyyqEOlПредсказание: 🌹 🥀 🌲 🎧 💐\n",
      "\n",
      "Сообщение: RT @Booissaa: Заботливый бу, подсылает своих агентов даже, когда играет с семьей😘🐾 https://t.co/3rEKfB3LK5Предсказание: 😘 😍\n",
      "\n",
      "Сообщение: @elleys24 Почему это так мило? 😍Какие бейбики 🐣💞Предсказание: 🐼 🙉 🙈 🐕 🐥\n",
      "\n",
      "Сообщение: Как же давно я не болела! Простыла. 🤒 Бля как плохо-то. Отвыкла 😫Предсказание: 😦 🤮 😧 😠 😡\n",
      "\n",
      "Сообщение: Ну например, глянь на девушку с ником &quot;ня🐣&quot;Предсказание: 🐇 🐶 🐥 😸\n",
      "\n",
      "Сообщение: ААААААААА!!!!!! БРАТА В ПЯТЫЙ КЛАСС ПРИНЯЛИИИИ😆😆😆😆😍🤢😂\r\n",
      "\r\n",
      "УЧИТЕЛЕМ БУДЕТ ДМИТРЙИ ЕГОРВТЧИК ДАДА ТОТ САМЫЙ УРОД🤢🤢🤢\r\n",
      "\r\n",
      "хотя зато мы вместе с братом теперь всю школу разнесем, ииндииндааааа😂😂😂😂😎Предсказание: 😡 😵 😷 😧\n",
      "\n",
      "Сообщение: Я ОЧЕНЬ ЗАКОМПЛЕКСОВАННЫЙ  ЧЕЛОВЕК!Однако,все люди для меня по-своему красивы,но потом я иду к зеркалу и...О БОЖЕ МОЙ 😱 Передо мной стоит самый настоящий УРОД 😫😩😭🤢🤮Я выгляжу,как маленький,жирный,усатый испанец😭💥🔫Предсказание: 🤢 🤕 🤧 🤬\n",
      "\n",
      "Сообщение: @Maria__Way Гордая фея без одежды 🙈🙊🧚‍♀️Предсказание: 👮 💆 🙇\n",
      "\n",
      "Сообщение: 📢🆘Наступает лихорадочная пора🔥и речь не о наступающих праздниках, а о сессии!✍🏻🙇‍👩‍🎓👨‍🎓🆘\n",
      "⏳📚📐Часики тикают. Самое время уточнить график сессии.\n",
      "🎓По ссылке график учебного процесса и ☝🏻сроки сессий по группам\n",
      "✍🏻✍🏻✍🏻👇🏻👇🏻👇🏻#tltTGu #flagshipuniversity\n",
      "https://t.co/jwm7020uaR https://t.co/T98AGINudCПредсказание: 👆 👇\n",
      "\n",
      "Сообщение: Появилась новая любимая песня(альбом)🎧  Все больше и больше влюбляют в себя 🙈Предсказание: 🦋 🙏 🎼 💐\n",
      "\n",
      "Сообщение: @a_life_is_game Ну Тоха...уверена, у Чимы всё будет хорошо❤💜\r\n",
      "(автор ты супер😘🌸)Предсказание: 😘 😍\n",
      "\n",
      "Сообщение: Эмоджи - это воистину потрясающее изобретение человечества. С их помощью можно обозначить и выразить буквально ВСЁ! \r\n",
      "Сегодня ты приуныл - Используй 😿🙁! \r\n",
      "Чувствуешь себя пёселем - 🐕🐶! \r\n",
      "Радуешься приходу весны - Так много вариантов 🦋🌿🌺☀! \r\n",
      "Задумал убить кого-то - No prob 🙂.Предсказание: 🤩 😎 😊 🙂 😙\n",
      "\n",
      "Сообщение: Арабский бот Денис, это странно🤷‍♂Предсказание: ♀ ♂\n",
      "\n",
      "Сообщение: так ещё и ночью 🧙‍♂️Предсказание: ♀ ♂\n",
      "\n",
      "Сообщение: решил похмельно обсудить с коллегами Ханну Монтану, но в очередной раз столкнулся со стеной недопонимания💅🏻 время рассказать всем, что во вторник последний мой рабочий день на архитектурном Титанике🖤😉⭐️😂🌠🔥😌👍🏻💸💃😳💦🦉😡👌🏻😭💪🏻💥🍟📹🏢👸🏼💙 vsem pisПредсказание: 😄 🤣 😂 😁\n",
      "\n",
      "Сообщение: А хулек 🤷‍♂Предсказание: 🤦 🤷 🙅 🙍\n",
      "\n",
      "Сообщение: @free_fox_ Бля я по-русски путаюсь то 🙈🤦‍♀️Предсказание: ♀ ♂\n",
      "\n",
      "Сообщение: Как обычно🤷‍♀️ Ничего не меняетсяПредсказание: 🙎 🤷 🙅 🙍\n",
      "\n",
      "Сообщение: @bantanyana на пять, адекватный фанат🙋‍♀️Предсказание: 👮 🙇 👯\n",
      "\n",
      "Сообщение: Блен, Саня, ты всё испортил🤦‍♀️Предсказание: ♀ ♂\n",
      "\n",
      "Сообщение: Аааааа!!!ИГРА ПРЕСТОЛОВ ваще 🔥🔥🔥 😱😭😱😭😱😭Предсказание: 😱 😰 😨\n",
      "\n",
      "Сообщение: я в тюрьме всем ауе нашим ауе👋 здесь очень плохо ребята😪 и просто невыносимо лучше сюда непопадать здесь ломается моя жизнь поговорите со мной мне так плохо😪 https://t.co/3vJYIjHEUmПредсказание: 👊 😤 🤦‍♂️\n",
      "\n"
     ]
    }
   ],
   "source": [
    "for i in [249744, 70842, 323158, 323158, 296003, 182053, 104306, 216050, 347738, 39268, 208593, 249754, 153240,\\\n",
    "         337200, 73613, 136165, 272755, 10123, 327009, 155539, 297794, 281368, 150979, 43400, 210014, 20756, 158854,\\\n",
    "         153096, 332217]:\n",
    "    prediction_ind = str(fin_test[fin_test['index'] == i]['predictions'].tolist()[0])\n",
    "    prediction = ' '.join(set(emo_clusters[(emo_clusters['cluster_group'] == prediction_ind) & \\\n",
    "                                      (~emo_clusters['emoji'].isin(['🐀', '🐸', '⚜']))]\\\n",
    "                          .sample(5, replace=True)['emoji'].tolist()))\n",
    "    print('Сообщение: ' + str(fin_test[fin_test['index'] == i]['texts'].tolist()[0]) + \\\n",
    "          'Предсказание: ' + prediction\n",
    "           + '\\n')\n",
    "    "
   ]
  },
  {
   "cell_type": "code",
   "execution_count": null,
   "metadata": {},
   "outputs": [],
   "source": []
  }
 ],
 "metadata": {
  "kernelspec": {
   "display_name": "Python 3",
   "language": "python",
   "name": "python3"
  },
  "language_info": {
   "codemirror_mode": {
    "name": "ipython",
    "version": 3
   },
   "file_extension": ".py",
   "mimetype": "text/x-python",
   "name": "python",
   "nbconvert_exporter": "python",
   "pygments_lexer": "ipython3",
   "version": "3.6.8"
  }
 },
 "nbformat": 4,
 "nbformat_minor": 2
}
