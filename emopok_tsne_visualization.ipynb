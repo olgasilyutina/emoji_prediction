{
 "cells": [
  {
   "cell_type": "markdown",
   "metadata": {},
   "source": [
    "## Visualizing embeddings in 2d: TSNE"
   ]
  },
  {
   "cell_type": "markdown",
   "metadata": {},
   "source": [
    "Setup for macos: mplcairo and this issue thread https://github.com/matplotlib/matplotlib/issues/12830"
   ]
  },
  {
   "cell_type": "code",
   "execution_count": 8,
   "metadata": {},
   "outputs": [],
   "source": [
    "import pandas as pd\n",
    "from gensim.test.utils import common_texts, get_tmpfile\n",
    "from gensim.models import Word2Vec"
   ]
  },
  {
   "cell_type": "code",
   "execution_count": 9,
   "metadata": {},
   "outputs": [],
   "source": [
    "model_CBOW = Word2Vec.load(\"./models/word2vec_CBOW_new.model\")\n",
    "tsne_emojis = pd.read_csv(\"./tsne_emojis.csv\")"
   ]
  },
  {
   "cell_type": "code",
   "execution_count": 10,
   "metadata": {},
   "outputs": [],
   "source": [
    "import mplcairo # pain in the ass starts here\n",
    "import matplotlib\n",
    "\n",
    "matplotlib.use(\"module://mplcairo.tk\")\n",
    "\n",
    "import matplotlib.pyplot as plt\n",
    "from matplotlib.font_manager import FontProperties\n",
    "\n",
    "import numpy as np\n",
    "import pandas as pd\n",
    "import numpy as np\n",
    "import re\n",
    "import nltk\n",
    "from sklearn.manifold import TSNE"
   ]
  },
  {
   "cell_type": "code",
   "execution_count": 11,
   "metadata": {},
   "outputs": [],
   "source": [
    "import matplotlib.pyplot as plt\n",
    "from matplotlib.font_manager import FontProperties\n",
    "\n",
    "prop = FontProperties(fname='/System/Library/Fonts/Apple Color Emoji.ttc')\n",
    "plt.rcParams['font.family'] = prop.get_family()\n",
    "\n",
    "\n",
    "\n",
    "def tsne_plot(model):\n",
    "    \"Creates and TSNE model and plots it\"\n",
    "    labels = [e for e in tsne_emojis['index'].tolist() if e in model.wv.vocab]\n",
    "    tokens = [model.wv[e] for e in tsne_emojis['index'].tolist() if e in model.wv.vocab]\n",
    "\n",
    "    tsne_model = TSNE(perplexity=40, n_components=2, init='pca', n_iter=2500, random_state=23)\n",
    "    new_values = tsne_model.fit_transform(tokens)\n",
    "\n",
    "    x = []\n",
    "    y = []\n",
    "    for value in new_values:\n",
    "        x.append(value[0])\n",
    "        y.append(value[1])\n",
    "        \n",
    "    plt.figure(figsize=(25, 25)) \n",
    "    for i in range(len(x)):\n",
    "        plt.scatter(x[i],y[i], color='w')\n",
    "        plt.annotate(labels[i],\n",
    "                     xy=(x[i], y[i]),\n",
    "                     #xytext=(5, 2),\n",
    "                     ha='right',\n",
    "                     va='bottom', fontproperties = prop, fontsize=11)\n",
    "    plt.ylabel('Dimension 2', fontsize=15)\n",
    "    plt.xlabel('Dimension 1', fontsize=15)\n",
    "    plt.title('TSNE visualization of Emoji embeddings', fontsize=18)\n",
    "    plt.show()\n"
   ]
  },
  {
   "cell_type": "code",
   "execution_count": 12,
   "metadata": {},
   "outputs": [],
   "source": [
    "tsne_plot(model_CBOW)"
   ]
  },
  {
   "cell_type": "code",
   "execution_count": null,
   "metadata": {},
   "outputs": [],
   "source": []
  }
 ],
 "metadata": {
  "kernelspec": {
   "display_name": "Python 3",
   "language": "python",
   "name": "python3"
  },
  "language_info": {
   "codemirror_mode": {
    "name": "ipython",
    "version": 3
   },
   "file_extension": ".py",
   "mimetype": "text/x-python",
   "name": "python",
   "nbconvert_exporter": "python",
   "pygments_lexer": "ipython3",
   "version": "3.6.8"
  }
 },
 "nbformat": 4,
 "nbformat_minor": 2
}
